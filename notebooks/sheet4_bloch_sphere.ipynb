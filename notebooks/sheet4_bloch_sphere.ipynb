{
 "cells": [
  {
   "cell_type": "markdown",
   "metadata": {},
   "source": [
    "# Sheet 4\n",
    "To be handed in until 15 May, 18:00."
   ]
  },
  {
   "cell_type": "code",
   "execution_count": null,
   "metadata": {},
   "outputs": [],
   "source": [
    "import qutip\n",
    "import scipy.constants as csts\n",
    "import numpy as np\n",
    "\n",
    "import matplotlib.pyplot as plt\n",
    "\n",
    "hbar = csts.hbar\n",
    "pi = csts.pi\n",
    "\n",
    "%matplotlib notebook"
   ]
  },
  {
   "cell_type": "markdown",
   "metadata": {},
   "source": [
    "$$\\newcommand{\\bra}[1]{\\left\\langle{#1}\\right|}\n",
    "\\newcommand{\\ket}[1]{\\left|{#1}\\right\\rangle}\n",
    "\\newcommand{\\braket}[2]{\\left\\langle{#1}\\middle|{#2}\\right\\rangle}$$\n",
    "# The Bloch Sphere\n",
    "In the lecture you learned about the density matrix approach as a way to include decohering processes in the time evolution of quantum systems. In this tutorial you will learn about the Bloch sphere as a convenient method to visualize the density matrix. For a given density matrix\n",
    "\n",
    "$$ \\hat{\\rho} = \\sum p_i \\ket{\\Psi_i}\\bra{\\Psi_i} = {\\begin{pmatrix}\\rho _{11}&\\rho _{12}\\\\\\rho _{21}&\\rho _{22}\\end{pmatrix}}$$\n",
    "\n",
    "the components of the Bloch vector $\\mathbf{v} = (u, v, w)$ are given by\n",
    "$$\n",
    "\\begin{aligned}\n",
    "u &= \\rho_{21} + \\rho_{12}\\\\\n",
    "v &= i\\left(\\rho_{12} - \\rho_{21}\\right) \\\\\n",
    "w &= \\rho_{11} - \\rho_{22}\n",
    "\\end{aligned}\n",
    "$$\n",
    "\n",
    "## Exercise 1\n",
    "**a)** Express the Bloch vector components in terms of expectation values of the Pauli matrices $\\sigma_x$, $\\sigma_y$ and $\\sigma_z$. *Reminder:* The expectation value of an operator $A$ in the density matrix formalism is given by \n",
    "\n",
    "$$\\langle A\\rangle =\\operatorname {tr} (A\\rho ).$$"
   ]
  },
  {
   "cell_type": "code",
   "execution_count": null,
   "metadata": {},
   "outputs": [],
   "source": []
  },
  {
   "cell_type": "markdown",
   "metadata": {},
   "source": [
    "$$\\newcommand{\\bra}[1]{\\left\\langle{#1}\\right|}\n",
    "\\newcommand{\\ket}[1]{\\left|{#1}\\right\\rangle}\n",
    "\\newcommand{\\braket}[2]{\\left\\langle{#1}\\middle|{#2}\\right\\rangle}$$\n",
    "In `qutip` the time evolution of a density matrix can be treated much the same way as the time evolution of pure states we treated on sheet 2. Instead of passing an initial state $\\left|\\, \\Psi_0 \\,\\right\\rangle$ to `qutip.mesolve()` you can just pass an initial density matrix $\\hat{\\rho}$. The `result.states` will then be a list containing the density matrix at each time step and expectation values are computed according to the above formula.\n",
    "\n",
    "**b)** For a system initially in the ground state\n",
    "\n",
    "$$ \\hat{\\rho} = \\ket{g}\\bra{g} $$\n",
    "\n",
    "calculate the time evolution under the Hamiltonian\n",
    "\n",
    "$$ H_{Rabi} = \\frac{\\hbar}{2} \\left(\\begin{array}{cc} -2\\delta & \\Omega \\\\ \\Omega & 0 \\end{array}\\right)$$\n",
    "\n",
    "that we obtained on sheet 2 for detunings of $\\delta = 0$ and $\\delta = \\Omega/2$ (You can set $\\Omega = \\hbar = 1$). Determine the components of the Bloch vector for each timestep and plot the time evolution on the Bloch sphere for one Rabi cycle. You can use e.g.\n",
    "```\n",
    "b = qutip.Bloch()\n",
    "b.add_points([xs, ys, zs])\n",
    "b.show()\n",
    "```\n",
    "where `xs`, `ys` and `zs` are lists of vector components."
   ]
  },
  {
   "cell_type": "code",
   "execution_count": null,
   "metadata": {},
   "outputs": [],
   "source": []
  },
  {
   "cell_type": "markdown",
   "metadata": {},
   "source": [
    "When a quatum system couples to a memoryless and separable environment (bath), its time evolution can be obtained by evaluating the Lindblad equation.\n",
    "\n",
    "$$\n",
    "{\\displaystyle {\\dot {\\rho }}=-{i \\over \\hbar }[H,\\rho ]+\\sum _{n=1}^{N^{2}-1}\\left(C_{n}\\rho C_{n}^{\\dagger }-{\\frac {1}{2}}\\left\\{C_{n}^{\\dagger }C_{n},\\rho \\right\\}\\right)},\n",
    "$$\n",
    "\n",
    "where $\\left\\{\\dots\\right\\}$ is the anticommutator. $C_n$ are operators that describe the coupling to the bath. When you pass coupling operators to `qutip.mesolve()` it will automatically use the Lindblad equation to evolve the system.\n",
    "\n",
    "**c)** As above compute the time evolution for a system initially in the ground state, with $\\delta=0$ but now include spontaneous decay in form of the collapse operator\n",
    "\n",
    "$$ C = \\sqrt{\\Gamma} \\sigma_- $$\n",
    "\n",
    "with a decay rate of $\\Gamma = \\Omega / 6$. Plot the time evolution of the Bloch vector, as well as the probability to find the system in the excited state as a function of time."
   ]
  },
  {
   "cell_type": "code",
   "execution_count": null,
   "metadata": {},
   "outputs": [],
   "source": []
  },
  {
   "cell_type": "markdown",
   "metadata": {},
   "source": [
    "**d)** In **b)** you computed the time evolution of pure states, whereas in **c)** decoherence drives the system into a mixed state. Based on your observation what characterizes pure vs. mixed states on the Bloch sphere?"
   ]
  },
  {
   "cell_type": "code",
   "execution_count": null,
   "metadata": {},
   "outputs": [],
   "source": []
  }
 ],
 "metadata": {
  "kernelspec": {
   "display_name": "Python 3",
   "language": "python",
   "name": "python3"
  },
  "language_info": {
   "codemirror_mode": {
    "name": "ipython",
    "version": 3
   },
   "file_extension": ".py",
   "mimetype": "text/x-python",
   "name": "python",
   "nbconvert_exporter": "python",
   "pygments_lexer": "ipython3",
   "version": "3.6.7"
  }
 },
 "nbformat": 4,
 "nbformat_minor": 2
}
