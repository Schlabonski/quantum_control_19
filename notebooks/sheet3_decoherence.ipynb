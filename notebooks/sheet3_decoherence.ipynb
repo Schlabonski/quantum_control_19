{
 "cells": [
  {
   "cell_type": "code",
   "execution_count": 1,
   "metadata": {},
   "outputs": [],
   "source": [
    "import qutip\n",
    "import scipy.constants as csts\n",
    "import numpy as np\n",
    "\n",
    "import matplotlib.pyplot as plt\n",
    "\n",
    "hbar = csts.hbar\n",
    "pi = csts.pi\n",
    "\n",
    "%matplotlib notebook"
   ]
  },
  {
   "cell_type": "markdown",
   "metadata": {},
   "source": [
    "$$\\newcommand{\\bra}[1]{\\left\\langle{#1}\\right|}\n",
    "\\newcommand{\\ket}[1]{\\left|{#1}\\right\\rangle}\n",
    "\\newcommand{\\braket}[2]{\\left\\langle{#1}\\middle|{#2}\\right\\rangle}$$\n",
    "# Spontaneous emission and decoherence\n",
    "The possibility of spontaneous decay of the atom from $\\ket{e}$ to $\\ket{g}$ under the emission of a photon in random direction has so far been neglected. When monitoring an ensemble of atoms, the occurence of spontaneous emission events leads to decoherence as the single atomic wave functions acquire random phases with respect to each other.\n",
    "\n",
    "Numerically, this behaviour can be treated using the Quantum Monte Carlo Wavefunction (MCWF) method introduced by Jean Dalibard et al. in 1992 (see [here](https://journals.aps.org/prl/pdf/10.1103/PhysRevLett.68.580)). This approach, roughly stated, works as follows:\n",
    "\n",
    "At time $t$ the atomic wavefunction is described by a superposition of ground and excited state\n",
    "\n",
    "$$ \\ket{\\Psi}(t) = a_g \\ket{g} + a_e \\ket{e}$$\n",
    "\n",
    "To obtain the wavefunction at time $t + dt$, the system is evolved unitarily with the Hamiltonian\n",
    "\n",
    "$$H_\\text{eff} = H_\\text{semiclassical} - i\\frac{\\Gamma}{2} \\sigma_+ \\sigma_-,$$\n",
    "\n",
    "where the additional term accounts for spontaneous emission with a rate of $\\Gamma$. In addition, a random number $\\epsilon \\in [0,1]$ is drawn. If $\\epsilon$ is greater than the probability\n",
    "\n",
    "$$ dp = \\Gamma \\left|a_e\\right|^2 dt = \\Gamma \\bra{\\Psi(t)}{\\sigma_+\\sigma_-}\\ket{\\Psi(t)} dt$$\n",
    "\n",
    "of a spontaneous decay event, the wavefunction ad $t+dt$ is the one obtained by unitary time evolution\n",
    "\n",
    "$$ \\ket{\\Psi(t+dt)} := \\mu \\left(a'_g \\ket{g} + a'_e \\ket{e}\\right).$$\n",
    "\n",
    "The prefactor $\\mu$ is for normalization. However, if $\\epsilon < dp$ (i.e. a spontaneous decay has been 'detected'), the wave function is projected to the ground state, and thus\n",
    "\n",
    "$$\\ket{\\Psi(t+dt)} := \\ket{g}.$$\n",
    "\n",
    "In `qutip` this method can be easily used by\n",
    "```\n",
    "qutip.mcsolve(H, psi0, timesteps, c_ops, e_ops, n)\n",
    "```\n",
    "where `n` is the number of trajectories to be simulated and `c_ops` is a list of collapse operators that describe the quantum jumps."
   ]
  },
  {
   "cell_type": "markdown",
   "metadata": {},
   "source": [
    "### Exercise 1\n",
    "\n",
    "a) (*2 Points*) Given an operator $c$ in the list `c_ops`, `qutip` calculates the probability of a quantum jump as \n",
    "\n",
    "$$ dp = \\bra{\\Psi}{c^\\dagger c}\\ket{\\Psi} dt. $$\n",
    "\n",
    "By comparison to the above formula for $dp$ in the case of spontaneous decay, find the correct form for $c$."
   ]
  },
  {
   "cell_type": "code",
   "execution_count": null,
   "metadata": {},
   "outputs": [],
   "source": []
  },
  {
   "cell_type": "markdown",
   "metadata": {},
   "source": [
    "b) (*5 points*) Compute the time evolution of a driven two-level atom with Rabi frequency $\\Omega = 100 kHz$ and detuning $\\delta=0$. Include a spontaneous decay rate $\\Gamma = \\Omega / 6 $ by using the MCWV method. Plot the resulting average trajectory for $n = 1, 10, 100$ trajectories. What effects do you observe for small/large ensembles?"
   ]
  },
  {
   "cell_type": "code",
   "execution_count": null,
   "metadata": {},
   "outputs": [],
   "source": []
  }
 ],
 "metadata": {
  "kernelspec": {
   "display_name": "Python 3",
   "language": "python",
   "name": "python3"
  },
  "language_info": {
   "codemirror_mode": {
    "name": "ipython",
    "version": 3
   },
   "file_extension": ".py",
   "mimetype": "text/x-python",
   "name": "python",
   "nbconvert_exporter": "python",
   "pygments_lexer": "ipython3",
   "version": "3.6.7"
  }
 },
 "nbformat": 4,
 "nbformat_minor": 2
}
