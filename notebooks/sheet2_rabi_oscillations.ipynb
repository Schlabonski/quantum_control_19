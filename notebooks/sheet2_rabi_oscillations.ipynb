{
 "cells": [
  {
   "cell_type": "code",
   "execution_count": null,
   "metadata": {},
   "outputs": [],
   "source": [
    "import qutip\n",
    "import scipy.constants as csts\n",
    "import numpy as np\n",
    "\n",
    "import matplotlib.pyplot as plt\n",
    "\n",
    "hbar = csts.hbar\n",
    "pi = csts.pi\n",
    "\n",
    "%matplotlib notebook"
   ]
  },
  {
   "cell_type": "markdown",
   "metadata": {},
   "source": [
    "$$\\newcommand{\\bra}[1]{\\left\\langle{#1}\\right|}\n",
    "\\newcommand{\\ket}[1]{\\left|{#1}\\right\\rangle}\n",
    "\\newcommand{\\braket}[2]{\\left\\langle{#1}\\middle|{#2}\\right\\rangle}$$\n",
    "## The Qobj class\n",
    "Quantum objects such as kets, bras or operators are represented in qutip by the `qutip.Qobj` class. Many important QM objects are already implemented (basis vectors, Pauli matrices, ladder operators, ...). To get started, implement the following quantum objects in qutip. (Use tab-completion to get an overview of built-in types and allowed methods.)\n",
    "\n",
    "1) Create the basis vectors $\\ket{g} = (0, 1)^T$ and $\\ket{e} = (1, 0)^T$."
   ]
  },
  {
   "cell_type": "code",
   "execution_count": null,
   "metadata": {},
   "outputs": [],
   "source": []
  },
  {
   "cell_type": "code",
   "execution_count": null,
   "metadata": {},
   "outputs": [],
   "source": []
  },
  {
   "cell_type": "markdown",
   "metadata": {},
   "source": [
    "2) Calculate the inner products $\\bra{e}e\\rangle$ and $\\bra{e}g\\rangle$."
   ]
  },
  {
   "cell_type": "code",
   "execution_count": null,
   "metadata": {},
   "outputs": [],
   "source": []
  },
  {
   "cell_type": "code",
   "execution_count": null,
   "metadata": {},
   "outputs": [],
   "source": []
  },
  {
   "cell_type": "markdown",
   "metadata": {},
   "source": [
    "3) Create the operator $\\sigma_- = \\ket{g}\\bra{e}$. How does it act on $\\ket{g}$ and $\\ket{e}$."
   ]
  },
  {
   "cell_type": "code",
   "execution_count": null,
   "metadata": {},
   "outputs": [],
   "source": []
  },
  {
   "cell_type": "code",
   "execution_count": null,
   "metadata": {},
   "outputs": [],
   "source": []
  },
  {
   "cell_type": "code",
   "execution_count": null,
   "metadata": {},
   "outputs": [],
   "source": []
  },
  {
   "cell_type": "markdown",
   "metadata": {},
   "source": [
    "4) Verify the property of the Pauli matrices\n",
    "$$\\sigma_x^2 = \\sigma_y^2 = \\sigma_z^2 = -i\\sigma_x \\sigma_y \\sigma_z = \\begin{pmatrix} 1&0\\\\0&1\\end{pmatrix} = I$$"
   ]
  },
  {
   "cell_type": "code",
   "execution_count": null,
   "metadata": {},
   "outputs": [],
   "source": []
  },
  {
   "cell_type": "code",
   "execution_count": null,
   "metadata": {},
   "outputs": [],
   "source": []
  },
  {
   "cell_type": "markdown",
   "metadata": {},
   "source": [
    "# Rabi Oscillations\n",
    "In the last lecture you have derived the Hamiltonian for a two level system that is driven by a classical electromagnetic wave. Including detuning, the Hamiltonian for this system is\n",
    "\n",
    "$$ H_{semiclassical} = \\frac{\\hbar}{2} \\left(\\begin{array}{cc} -2\\delta & \\Omega \\\\ \\Omega & 0 \\end{array}\\right),$$\n",
    "\n",
    "given in the eigenstate basis of the unperturbed atom $\\ket{g} = (0, 1)^T$ and $\\ket{e} = (1, 0)^T$. Here $\\delta = \\omega_L - \\omega_0$ is the detuning of the driving field with respect to the atomic transition and $\\Omega$ is the on-resonance Rabi frequency.\n",
    "\n",
    "\n",
    "In this tutorial we will numerically simulate the time evolution of this system, using the QUantum Toolbox In Python (`qutip`).\n"
   ]
  },
  {
   "cell_type": "markdown",
   "metadata": {},
   "source": [
    "## Time evolution\n",
    "\n",
    "In `qutip` the unitary time evolution of an initial state `psi0` under a Hamiltonian `H` can be computed by\n",
    "```\n",
    "    qutip.mesolve(H, psi0, timesteps, c_ops, e_ops)\n",
    "```\n",
    "where `timesteps` is an array of times for which the state of the system should be returned, `c_ops` is a list of collapse operators that describe coupling to the surroundings (i.e. an empty list for unitary time evolution) and `e_ops` is a list that can contain operators for which the expectation value at each timestep should be stored as well.\n",
    "\n",
    "### Exercise 1\n",
    "a) Simulate the time evolution $\\ket{\\Psi(t)}$ of an initial state $\\ket{g}$ driven by a field with Rabi frequency $\\Omega= 100kHz$ and detuning $\\delta=0$ for two full Rabi cycles. Plot the probability of finding the system in the excited state $\\left|\\braket{e}{\\Psi(t)}\\right|^2$ as a function of time. (You can set $\\hbar=1$.)"
   ]
  },
  {
   "cell_type": "code",
   "execution_count": null,
   "metadata": {},
   "outputs": [],
   "source": []
  },
  {
   "cell_type": "code",
   "execution_count": null,
   "metadata": {},
   "outputs": [],
   "source": []
  },
  {
   "cell_type": "markdown",
   "metadata": {},
   "source": [
    "b) As in a) but now for different nonzero detunings of $\\delta=\\Omega$ and $\\delta=2.5 \\Omega$."
   ]
  },
  {
   "cell_type": "code",
   "execution_count": null,
   "metadata": {},
   "outputs": [],
   "source": []
  },
  {
   "cell_type": "markdown",
   "metadata": {},
   "source": [
    "c) **BONUS**: Visualize the time evolutions obtained in a) and b) on the Bloch sphere, using `qutip.Bloch()`."
   ]
  },
  {
   "cell_type": "code",
   "execution_count": null,
   "metadata": {
    "scrolled": false
   },
   "outputs": [],
   "source": []
  },
  {
   "cell_type": "code",
   "execution_count": null,
   "metadata": {},
   "outputs": [],
   "source": []
  }
 ],
 "metadata": {
  "kernelspec": {
   "display_name": "Python 3",
   "language": "python",
   "name": "python3"
  },
  "language_info": {
   "codemirror_mode": {
    "name": "ipython",
    "version": 3
   },
   "file_extension": ".py",
   "mimetype": "text/x-python",
   "name": "python",
   "nbconvert_exporter": "python",
   "pygments_lexer": "ipython3",
   "version": "3.6.7"
  }
 },
 "nbformat": 4,
 "nbformat_minor": 2
}
