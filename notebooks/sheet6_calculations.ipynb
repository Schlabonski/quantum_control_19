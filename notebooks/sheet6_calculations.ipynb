{
 "cells": [
  {
   "cell_type": "code",
   "execution_count": 1,
   "metadata": {},
   "outputs": [],
   "source": [
    "import numpy as np\n",
    "import scipy.constants as cst"
   ]
  },
  {
   "cell_type": "code",
   "execution_count": 2,
   "metadata": {},
   "outputs": [],
   "source": [
    "hbar = cst.hbar\n",
    "pi = cst.pi\n",
    "kb = cst.k\n",
    "c = cst.c\n",
    "u = cst.u"
   ]
  },
  {
   "cell_type": "markdown",
   "metadata": {},
   "source": [
    "## 1b)\n",
    "Calculate the power needed to trap Li6 at 300 $\\mu$K"
   ]
  },
  {
   "cell_type": "code",
   "execution_count": 6,
   "metadata": {},
   "outputs": [],
   "source": [
    "T = 300e-6 # micro kelvin\n",
    "Is = 2.54e-3/(1e-4) # mW per cm^2\n",
    "w0 = 15e-6 #micro meter\n",
    "lam0 = 671e-9 #nm\n",
    "lamodt = 1064e-9 #nm\n",
    "gamma = 2 * pi * 6e6 # MHz"
   ]
  },
  {
   "cell_type": "code",
   "execution_count": 7,
   "metadata": {},
   "outputs": [],
   "source": [
    "def delta_om(lam1, lam2):\n",
    "    f1 = c/lam1\n",
    "    f2 = c/lam2\n",
    "    delf = f1-f2\n",
    "    return 2 * pi * delf"
   ]
  },
  {
   "cell_type": "code",
   "execution_count": 8,
   "metadata": {},
   "outputs": [],
   "source": [
    "delta = delta_om(lam0, lamodt)"
   ]
  },
  {
   "cell_type": "code",
   "execution_count": 9,
   "metadata": {},
   "outputs": [
    {
     "name": "stdout",
     "output_type": "stream",
     "text": [
      "power needed: 20.578848377383576 W\n"
     ]
    }
   ],
   "source": [
    "P = 20/2 * kb*T * 8 * delta * Is * pi * w0**2 / (2 * hbar * gamma**2)\n",
    "print('power needed: {} W'.format(P))"
   ]
  },
  {
   "cell_type": "markdown",
   "metadata": {},
   "source": [
    "1c)\n",
    "What is the coherence time, if limited by off-resonant scattering."
   ]
  },
  {
   "cell_type": "code",
   "execution_count": 10,
   "metadata": {},
   "outputs": [
    {
     "name": "stdout",
     "output_type": "stream",
     "text": [
      "Coherence time: 70.02766125218268 ms\n"
     ]
    }
   ],
   "source": [
    "I = 2*P / (pi*w0**2)\n",
    "gammasc = gamma**3 * I / (8*delta**2*Is)\n",
    "tau = 1 / gammasc\n",
    "\n",
    "print('Coherence time: {} ms'.format(tau*1e3))"
   ]
  },
  {
   "cell_type": "markdown",
   "metadata": {},
   "source": [
    "1d) What are the radial and axial oscillation frequencies?"
   ]
  },
  {
   "cell_type": "code",
   "execution_count": 11,
   "metadata": {},
   "outputs": [],
   "source": [
    "def trap_depth(I, Is, gamma, delta):\n",
    "    nom = I * hbar * gamma**2\n",
    "    denom = Is * 8 * delta\n",
    "    return nom/ denom\n",
    "\n",
    "def intensity(P, w0):\n",
    "    return 2*P / (pi * w0**2)"
   ]
  },
  {
   "cell_type": "code",
   "execution_count": 12,
   "metadata": {},
   "outputs": [
    {
     "name": "stdout",
     "output_type": "stream",
     "text": [
      "Axial frequency: 0.6907905525287517 kHz\n",
      "Radial frequency: 43.26740920588789 kHz\n"
     ]
    }
   ],
   "source": [
    "Uopt = trap_depth(I, Is, gamma, delta)\n",
    "zR = pi * w0**2 / lamodt\n",
    "m = 6 * u\n",
    "\n",
    "nu_ax = np.sqrt(2*Uopt / (m*zR**2)) / (2*pi)\n",
    "nu_rad = np.sqrt(4*Uopt / (m*w0**2)) / (2*pi)\n",
    "\n",
    "print('Axial frequency: {} kHz'.format(nu_ax/1e3))\n",
    "print('Radial frequency: {} kHz'.format(nu_rad/1e3))"
   ]
  },
  {
   "cell_type": "markdown",
   "metadata": {},
   "source": [
    "2b) Calculate the trap depth inside a standing wave trap."
   ]
  },
  {
   "cell_type": "code",
   "execution_count": 94,
   "metadata": {},
   "outputs": [
    {
     "name": "stdout",
     "output_type": "stream",
     "text": [
      "Trap depth: 1.0496214172868232 mK\n"
     ]
    }
   ],
   "source": [
    "I = 4 * intensity(20, 50e-6)\n",
    "Uopt = trap_depth(I, Is, gamma, delta)\n",
    "\n",
    "print('Trap depth: {} mK'.format(Uopt/kb*1e3))"
   ]
  },
  {
   "cell_type": "code",
   "execution_count": null,
   "metadata": {},
   "outputs": [],
   "source": []
  }
 ],
 "metadata": {
  "kernelspec": {
   "display_name": "Python 3",
   "language": "python",
   "name": "python3"
  },
  "language_info": {
   "codemirror_mode": {
    "name": "ipython",
    "version": 3
   },
   "file_extension": ".py",
   "mimetype": "text/x-python",
   "name": "python",
   "nbconvert_exporter": "python",
   "pygments_lexer": "ipython3",
   "version": "3.6.7"
  }
 },
 "nbformat": 4,
 "nbformat_minor": 2
}
