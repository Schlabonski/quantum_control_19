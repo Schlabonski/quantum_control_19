{
 "cells": [
  {
   "cell_type": "markdown",
   "metadata": {},
   "source": [
    "# Sheet 11 - Numerical Part\n",
    "To be handed in until July 10th, 18:00."
   ]
  },
  {
   "cell_type": "code",
   "execution_count": 1,
   "metadata": {},
   "outputs": [],
   "source": [
    "%matplotlib notebook\n",
    "import numpy as np\n",
    "import matplotlib.pyplot as plt\n",
    "\n",
    "import qutip as q\n",
    "pi = np.pi"
   ]
  },
  {
   "cell_type": "markdown",
   "metadata": {},
   "source": [
    "$$\\newcommand{\\bra}[1]{\\left\\langle\\,{#1}\\,\\right|}\n",
    "\\newcommand{\\ket}[1]{\\left|\\,{#1}\\,\\right\\rangle}\n",
    "\\newcommand{\\braket}[2]{\\left\\langle{#1}\\middle|{#2}\\right\\rangle}$$\n",
    "# Idealized representation of a CNOT gate\n",
    "\n",
    "You learned in the lecture that, in a basis spanned by the basis $\\ket{\\downarrow_1}\\ket{\\downarrow_2}$, ... , an ideal CPHASE gate is represented by the matrix\n",
    "\n",
    "\\begin{align*}\n",
    "    \\begin{pmatrix}\n",
    "    1 & 0 & 0 & 0 \\\\\n",
    "    0 & 1 & 0 & 0 \\\\\n",
    "    0 & 0 & 1 & 0 \\\\\n",
    "    0 & 0 & 0 & -1 \n",
    "    \\end{pmatrix}\\,,\n",
    "\\end{align*}\n",
    "\n",
    "i.e. it only adds an absolute phase of $-1$ to the $\\ket{\\uparrow_1}\\ket{\\uparrow_2}$ component of a wavefunction and leaves all other parts invariant. In this case the system under consideration are the electronic spin states of two ions trapped in a common potential. The authors of [1] used a  single trapped ion and its motional degree of freedom to implement a CNOT gate. Here an ideal representation of the operations can be expressed in the product state basis $\\ket{0}\\ket{\\downarrow}$, ... . For example the idealized blue sideband $\\pi$-pulse, swapping population between $\\ket{0}\\ket{\\downarrow}$ and $\\ket{1}\\ket{\\uparrow}$ is given by\n",
    "\n",
    "\\begin{align*}\n",
    "    \\begin{pmatrix}\n",
    "    0 & 0 & 0 & -i \\\\\n",
    "    0 & 1 & 0 & 0 \\\\\n",
    "    0 & 0 & 1 & 0 \\\\\n",
    "    -i & 0 & 0 & 0 \n",
    "    \\end{pmatrix}\\,.\n",
    "\\end{align*}\n",
    "\n",
    "Below you find definitions for all different types of pulses that were described in [1].\n",
    "\n",
    "[1]: C. Monroe et al., *Demonstration of a Fundamental Quantum Logic Gate*, PRL75(25) (1995)"
   ]
  },
  {
   "cell_type": "code",
   "execution_count": 48,
   "metadata": {},
   "outputs": [],
   "source": [
    "s = 1/np.sqrt(2)\n",
    "\n",
    "# initial state |0>|down>\n",
    "o_down = q.Qobj([[1],\n",
    "                 [0],\n",
    "                 [0],\n",
    "                 [0]])\n",
    "\n",
    "# basis definition\n",
    "o_up  =  q.Qobj([[0],\n",
    "                 [1],\n",
    "                 [0],\n",
    "                 [0]])\n",
    "\n",
    "i_down = q.Qobj([[0],\n",
    "                 [0],\n",
    "                 [1],\n",
    "                 [0]])\n",
    "\n",
    "i_up  =  q.Qobj([[0],\n",
    "                 [0],\n",
    "                 [0],\n",
    "                 [1]])\n",
    "\n",
    "# I. Preparation pulses\n",
    "# pi-rotation on the blue sideband\n",
    "r_pi_bsb = q.Qobj([[0, 0, 0, -1j],\n",
    "                   [0, 1, 0, 0],\n",
    "                   [0, 0, 1, 0],\n",
    "                   [-1j, 0, 0, 0]])\n",
    "\n",
    "# pi-rotation on the carrier\n",
    "r_pi_C = q.Qobj([[0, -1j, 0, 0],\n",
    "                 [-1j, 0, 0, 0],\n",
    "                 [0, 0, 0, -1j],\n",
    "                 [0, 0, -1j, 0]])\n",
    "\n",
    "# II. Gate pulses\n",
    "# +pi/2 rotation on the carrier\n",
    "r_pi_2_C = q.Qobj([[s, -s*1j, 0, 0],\n",
    "                   [-s*1j, s, 0, 0],\n",
    "                   [0, 0, s, -s*1j], \n",
    "                   [0, 0, -s*1j, s]])\n",
    "\n",
    "# 2pi rotation coupling |1>|up> to the aux level\n",
    "r_2pi_aux = q.Qobj([[1, 0, 0, 0],\n",
    "                   [0, 1, 0, 0],\n",
    "                   [0, 0, 1, 0],\n",
    "                   [0, 0, 0, -1]])\n"
   ]
  },
  {
   "cell_type": "markdown",
   "metadata": {},
   "source": [
    "**a)** *(2 Points)* Use the pulses defined above to prepare all four desired input states from the initial state and apply the CNOT gate sequence to them. Verify that, up to a phase, the pulse sequence described in [1] results in a CNOT matrix.\n",
    "\n",
    "*Hint:* You can obtain inverse rotations by applying a hermitian conjugate."
   ]
  },
  {
   "cell_type": "code",
   "execution_count": null,
   "metadata": {},
   "outputs": [],
   "source": []
  },
  {
   "cell_type": "markdown",
   "metadata": {},
   "source": [
    "**b)** *(2 Points)* In the above idealized representation, imperfections can not be treated adequately. From the perspective of someone who wants to build a working quantum computer it is important to know in which way different imperfections influence the result. Name two factors that could lead to decreased fidelity of the gate and describe a pathway to include them in a more sophisticated `qutip` simulation."
   ]
  },
  {
   "cell_type": "code",
   "execution_count": null,
   "metadata": {},
   "outputs": [],
   "source": []
  }
 ],
 "metadata": {
  "kernelspec": {
   "display_name": "Python 3",
   "language": "python",
   "name": "python3"
  },
  "language_info": {
   "codemirror_mode": {
    "name": "ipython",
    "version": 3
   },
   "file_extension": ".py",
   "mimetype": "text/x-python",
   "name": "python",
   "nbconvert_exporter": "python",
   "pygments_lexer": "ipython3",
   "version": "3.8.2"
  }
 },
 "nbformat": 4,
 "nbformat_minor": 4
}
