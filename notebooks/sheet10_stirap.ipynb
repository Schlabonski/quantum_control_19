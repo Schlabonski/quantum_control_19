{
 "cells": [
  {
   "cell_type": "markdown",
   "metadata": {},
   "source": [
    "# Sheet 10 - Numerical Part\n",
    "To be handed in until July 3rd, 18:00."
   ]
  },
  {
   "cell_type": "code",
   "execution_count": 1,
   "metadata": {},
   "outputs": [],
   "source": [
    "%matplotlib notebook\n",
    "import numpy as np\n",
    "import matplotlib.pyplot as plt\n",
    "\n",
    "import qutip as q\n",
    "pi = np.pi"
   ]
  },
  {
   "cell_type": "markdown",
   "metadata": {},
   "source": [
    "$$\\newcommand{\\bra}[1]{\\left\\langle\\,{#1}\\,\\right|}\n",
    "\\newcommand{\\ket}[1]{\\left|\\,{#1}\\,\\right\\rangle}\n",
    "\\newcommand{\\braket}[2]{\\left\\langle{#1}\\middle|{#2}\\right\\rangle}$$\n",
    "# STIRAP\n",
    "\n",
    "In this exercise we will simulate the Hamiltonian of a three-level system coupled to light fields, given on sheet 9, eq. (2) with $\\hbar =1$. We will explore how a clever arrangement of two light pulses can coherently transfer population from the ground state $\\ket{g_-}$ to the ground state $\\ket{g_+}$. Experimentally, the Rabi frequencies $\\Omega_C$ and $\\Omega_S$ can be controlled by varying the intensity of the light fields. In the case of an atom moving through two gaussian laser beams (signal and control), each Rabi frequency would depend on time as\n",
    "\n",
    "\\begin{align*}\n",
    "    \\Omega_{C, S} (t) = \\frac{A}{\\sqrt{2\\pi\\sigma^2}}\\, \\exp \\left\\lbrace -\\frac{(t-t_0)^2}{2\\sigma^2} \\right\\rbrace\n",
    "\\end{align*}\n",
    "\n",
    "In the following, use a single- and two-photon detuning as $\\delta = \\Delta = 0.1$ and $\\sigma=1$. Let the atom initially be in the state $\\ket{g_-}$."
   ]
  },
  {
   "cell_type": "markdown",
   "metadata": {},
   "source": [
    "## Not so Clever Order\n",
    "In the first scheme the atom is first coupled to the signal beam ($t_{0,S}=-1$) and then to the control beam ($t_{0,C} = 1$). \n",
    "\n",
    "**a)** *(5 Points)* Simulate the system for times $t \\in [-2\\pi, 2\\pi]$. Plot the Rabi frequencies, as well as the populations of the ground state $\\ket{g_+}$ and $\\ket{g_-}$ and the excited state $\\ket{e}$. Try different \"pulse areas\" $A = 16\\pi, 17\\pi, ..., 20\\pi$ and describe/explain your observations.\n",
    "\n",
    "*Hint:* You can find an explanation on how to simulate time-dependent Hamiltonians in `qutip` [here](http://qutip.org/docs/latest/guide/dynamics/dynamics-time.html). The method \"Function Based Time Dependence\" is well suited in this case."
   ]
  },
  {
   "cell_type": "code",
   "execution_count": 49,
   "metadata": {},
   "outputs": [],
   "source": []
  },
  {
   "cell_type": "markdown",
   "metadata": {},
   "source": [
    "## Clever Order\n",
    "Now interchange the two pulses, coupling the atom to the control field first.\n",
    "\n",
    "**b)** *(3 Points)* Similar to a) simulate the system for $A = 16\\pi$ and describe/explain your observation."
   ]
  },
  {
   "cell_type": "code",
   "execution_count": 50,
   "metadata": {},
   "outputs": [],
   "source": []
  },
  {
   "cell_type": "markdown",
   "metadata": {},
   "source": [
    "## Including Spontaneous Decay\n",
    "\n",
    "**c)** *(3 Points)* Include decay of the excited state to either of the ground states, with a rate of $\\gamma = 0.1$ for both possible decay channels, in your simulations. Taking into account all your observations, compare both schemes and explain the advantages of the counter-intuitive scheme from b).\n",
    "\n",
    "### Clever Order"
   ]
  },
  {
   "cell_type": "code",
   "execution_count": 27,
   "metadata": {},
   "outputs": [],
   "source": []
  },
  {
   "cell_type": "markdown",
   "metadata": {},
   "source": [
    "### Not so Clever Order"
   ]
  },
  {
   "cell_type": "code",
   "execution_count": 52,
   "metadata": {},
   "outputs": [],
   "source": []
  }
 ],
 "metadata": {
  "kernelspec": {
   "display_name": "Python 3",
   "language": "python",
   "name": "python3"
  },
  "language_info": {
   "codemirror_mode": {
    "name": "ipython",
    "version": 3
   },
   "file_extension": ".py",
   "mimetype": "text/x-python",
   "name": "python",
   "nbconvert_exporter": "python",
   "pygments_lexer": "ipython3",
   "version": "3.6.8"
  }
 },
 "nbformat": 4,
 "nbformat_minor": 2
}
